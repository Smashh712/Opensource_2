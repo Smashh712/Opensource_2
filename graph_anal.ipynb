{
 "cells": [
  {
   "cell_type": "code",
   "execution_count": 75,
   "metadata": {
    "_uuid": "c5f37a1a75afab68768833ec1275773eb46539be"
   },
   "outputs": [],
   "source": [
    "import pandas as pd\n",
    "import numpy as np\n",
    "import seaborn as sns\n",
    "import matplotlib.pyplot as plt\n",
    "from sklearn.linear_model import LinearRegression"
   ]
  },
  {
   "cell_type": "code",
   "execution_count": 66,
   "metadata": {
    "_uuid": "fc7fe9f0c37173be10dd6e34463e11d989139014"
   },
   "outputs": [
    {
     "name": "stdout",
     "output_type": "stream",
     "text": [
      "        순번                        lecture          professor  과제 많음  과제 보통  \\\n",
      "0    10001                  4차 산업혁명과 융합기술                이응석      0      0   \n",
      "1    10002  4차산업/직업과 인체 뇌 기능의 생활 응용 융합 강좌  김영철, 김진하, 김찬형, 최웅      0      0   \n",
      "2    10003                       갈등사회와 시민      김남준, 김민재, 조일수      0      1   \n",
      "3    10004                          결혼과가족                김영희      0      1   \n",
      "4    10005                          결혼과가족                김대광      0      1   \n",
      "..     ...                            ...                ...    ...    ...   \n",
      "207  10208                    현대산업사회와환경문제                 윤철      0      1   \n",
      "208  10209                    현대산업사회와환경문제                김광열      0      0   \n",
      "209  10210                      현대정치와국제관계                정태일      0      1   \n",
      "210  10211                   환경과 곤충산업의 이해                김재용      0      0   \n",
      "211  10212                  환경과 그린에너지의 이해                김재용      0      0   \n",
      "\n",
      "     과제 없음  조모임 많음  조모임 보통  조모임 없음  학점 느님  ...  시험 한 번  시험 없음  pass/fail  \\\n",
      "0        0       0       0       0      0  ...       0      0          0   \n",
      "1        0       0       0       0      0  ...       0      0          0   \n",
      "2        0       0       0       1      1  ...       1      0          0   \n",
      "3        0       0       0       1      0  ...       0      0          0   \n",
      "4        0       0       0       1      0  ...       0      0          0   \n",
      "..     ...     ...     ...     ...    ...  ...     ...    ...        ...   \n",
      "207      0       0       0       1      1  ...       0      0          0   \n",
      "208      1       0       0       1      0  ...       1      0          0   \n",
      "209      0       0       0       1      1  ...       0      0          0   \n",
      "210      1       0       0       1      0  ...       0      0          0   \n",
      "211      0       0       0       0      0  ...       0      0          0   \n",
      "\n",
      "     grade  객관식  주관식  프로젝트 있음  암기 많음  리뷰 수  value  \n",
      "0        0    0    0        0      0     1    NaN  \n",
      "1        0    0    0        0      0     1    NaN  \n",
      "2        1    0    0        0      0    10   4.40  \n",
      "3        1    0    0        0      0    77   3.66  \n",
      "4        1    0    0        0      0    42   3.90  \n",
      "..     ...  ...  ...      ...    ...   ...    ...  \n",
      "207      1    0    0        0      0   245   4.61  \n",
      "208      1    0    0        0      0     4   3.25  \n",
      "209      1    0    0        0      0    75   4.00  \n",
      "210      1    0    0        0      0     5   2.50  \n",
      "211      0    0    0        0      0     1    NaN  \n",
      "\n",
      "[212 rows x 31 columns]\n"
     ]
    },
    {
     "name": "stderr",
     "output_type": "stream",
     "text": [
      "C:\\Users\\user\\anaconda3\\lib\\site-packages\\pandas\\core\\frame.py:3997: SettingWithCopyWarning: \n",
      "A value is trying to be set on a copy of a slice from a DataFrame\n",
      "\n",
      "See the caveats in the documentation: https://pandas.pydata.org/pandas-docs/stable/user_guide/indexing.html#returning-a-view-versus-a-copy\n",
      "  errors=errors,\n"
     ]
    }
   ],
   "source": [
    "\n",
    "data = pd.read_csv('lecture.csv')\n",
    "data_na = data['value'].isnull()\n",
    "\n",
    "test = data[data_na]\n",
    "test_id = test.순번\n",
    "test.drop(['순번','lecture','professor','value'],axis='columns', inplace=True)\n",
    "\n",
    "train = data[~data_na]\n",
    "train_id = train.순번\n",
    "train_y = train.value\n",
    "train.drop(['순번','lecture','professor','value'],axis='columns', inplace=True)\n",
    "\n",
    "print(data)"
   ]
  },
  {
   "cell_type": "markdown",
   "metadata": {},
   "source": [
    "## 데이터를 기반으로 평점 평균, 리뷰 수와 평점에 대한 분포"
   ]
  },
  {
   "cell_type": "code",
   "execution_count": 47,
   "metadata": {},
   "outputs": [
    {
     "name": "stdout",
     "output_type": "stream",
     "text": [
      "            value        리뷰 수\n",
      "count  182.000000  212.000000\n",
      "mean     3.968901   38.377358\n",
      "std      0.829916   57.323139\n",
      "min      1.400000    1.000000\n",
      "25%      3.405000    4.000000\n",
      "50%      4.110000   15.000000\n",
      "75%      4.647500   43.500000\n",
      "max      5.000000  245.000000\n"
     ]
    }
   ],
   "source": [
    "print(data[[\"value\",'리뷰 수']].describe())"
   ]
  },
  {
   "cell_type": "code",
   "execution_count": 43,
   "metadata": {},
   "outputs": [
    {
     "data": {
      "text/plain": [
       "<matplotlib.axes._subplots.AxesSubplot at 0x254add97b88>"
      ]
     },
     "execution_count": 43,
     "metadata": {},
     "output_type": "execute_result"
    },
    {
     "data": {
      "text/plain": [
       "<Figure size 432x288 with 0 Axes>"
      ]
     },
     "metadata": {},
     "output_type": "display_data"
    },
    {
     "data": {
      "image/png": "[encoded data removed]",
      "text/plain": [
       "<Figure size 432x288 with 1 Axes>"
      ]
     },
     "metadata": {
      "needs_background": "light"
     },
     "output_type": "display_data"
    }
   ],
   "source": [
    "fig= plt.figure()\n",
    "fig,ax = plt.subplots()\n",
    "ax.set_title(\"review\")\n",
    "data['리뷰 수'].plot.hist(alpha=0.5,bins=20,ax=ax)"
   ]
  },
  {
   "cell_type": "code",
   "execution_count": 44,
   "metadata": {},
   "outputs": [
    {
     "data": {
      "text/plain": [
       "<matplotlib.axes._subplots.AxesSubplot at 0x254adda4e48>"
      ]
     },
     "execution_count": 44,
     "metadata": {},
     "output_type": "execute_result"
    },
    {
     "data": {
      "image/png": "[encoded data removed]",
      "text/plain": [
       "<Figure size 432x288 with 1 Axes>"
      ]
     },
     "metadata": {
      "needs_background": "light"
     },
     "output_type": "display_data"
    }
   ],
   "source": [
    "fig,ax = plt.subplots()\n",
    "ax.set_title(\"Score\")\n",
    "data['value'].plot.hist(alpha=0.5,bins=20,ax=ax)"
   ]
  },
  {
   "cell_type": "code",
   "execution_count": 74,
   "metadata": {},
   "outputs": [
    {
     "data": {
      "text/html": [
       "<div>\n",
       "<style scoped>\n",
       "    .dataframe tbody tr th:only-of-type {\n",
       "        vertical-align: middle;\n",
       "    }\n",
       "\n",
       "    .dataframe tbody tr th {\n",
       "        vertical-align: top;\n",
       "    }\n",
       "\n",
       "    .dataframe thead th {\n",
       "        text-align: right;\n",
       "    }\n",
       "</style>\n",
       "<table border=\"1\" class=\"dataframe\">\n",
       "  <thead>\n",
       "    <tr style=\"text-align: right;\">\n",
       "      <th></th>\n",
       "      <th>순번</th>\n",
       "      <th>과제 많음</th>\n",
       "      <th>과제 보통</th>\n",
       "      <th>과제 없음</th>\n",
       "      <th>조모임 많음</th>\n",
       "      <th>조모임 보통</th>\n",
       "      <th>조모임 없음</th>\n",
       "      <th>학점 느님</th>\n",
       "      <th>학점 비율채워줌</th>\n",
       "      <th>학점 깐깐함</th>\n",
       "      <th>...</th>\n",
       "      <th>시험 두 번</th>\n",
       "      <th>시험 한 번</th>\n",
       "      <th>시험 없음</th>\n",
       "      <th>pass/fail</th>\n",
       "      <th>grade</th>\n",
       "      <th>객관식</th>\n",
       "      <th>주관식</th>\n",
       "      <th>프로젝트 있음</th>\n",
       "      <th>암기 많음</th>\n",
       "      <th>value</th>\n",
       "    </tr>\n",
       "    <tr>\n",
       "      <th>리뷰 수</th>\n",
       "      <th></th>\n",
       "      <th></th>\n",
       "      <th></th>\n",
       "      <th></th>\n",
       "      <th></th>\n",
       "      <th></th>\n",
       "      <th></th>\n",
       "      <th></th>\n",
       "      <th></th>\n",
       "      <th></th>\n",
       "      <th></th>\n",
       "      <th></th>\n",
       "      <th></th>\n",
       "      <th></th>\n",
       "      <th></th>\n",
       "      <th></th>\n",
       "      <th></th>\n",
       "      <th></th>\n",
       "      <th></th>\n",
       "      <th></th>\n",
       "      <th></th>\n",
       "    </tr>\n",
       "  </thead>\n",
       "  <tbody>\n",
       "    <tr>\n",
       "      <th>1</th>\n",
       "      <td>10103.450000</td>\n",
       "      <td>0.025000</td>\n",
       "      <td>0.150000</td>\n",
       "      <td>0.075000</td>\n",
       "      <td>0.000000</td>\n",
       "      <td>0.050000</td>\n",
       "      <td>0.200000</td>\n",
       "      <td>0.150000</td>\n",
       "      <td>0.100000</td>\n",
       "      <td>0.000000</td>\n",
       "      <td>...</td>\n",
       "      <td>0.050000</td>\n",
       "      <td>0.100000</td>\n",
       "      <td>0.100000</td>\n",
       "      <td>0.0</td>\n",
       "      <td>0.25</td>\n",
       "      <td>0.0</td>\n",
       "      <td>0.0</td>\n",
       "      <td>0.0</td>\n",
       "      <td>0.0</td>\n",
       "      <td>4.400000</td>\n",
       "    </tr>\n",
       "    <tr>\n",
       "      <th>2</th>\n",
       "      <td>10112.285714</td>\n",
       "      <td>0.000000</td>\n",
       "      <td>0.571429</td>\n",
       "      <td>0.428571</td>\n",
       "      <td>0.000000</td>\n",
       "      <td>0.142857</td>\n",
       "      <td>0.857143</td>\n",
       "      <td>0.285714</td>\n",
       "      <td>0.714286</td>\n",
       "      <td>0.000000</td>\n",
       "      <td>...</td>\n",
       "      <td>0.571429</td>\n",
       "      <td>0.285714</td>\n",
       "      <td>0.142857</td>\n",
       "      <td>0.0</td>\n",
       "      <td>1.00</td>\n",
       "      <td>0.0</td>\n",
       "      <td>0.0</td>\n",
       "      <td>0.0</td>\n",
       "      <td>0.0</td>\n",
       "      <td>4.428571</td>\n",
       "    </tr>\n",
       "    <tr>\n",
       "      <th>3</th>\n",
       "      <td>10083.400000</td>\n",
       "      <td>0.200000</td>\n",
       "      <td>0.400000</td>\n",
       "      <td>0.400000</td>\n",
       "      <td>0.000000</td>\n",
       "      <td>0.200000</td>\n",
       "      <td>0.800000</td>\n",
       "      <td>0.800000</td>\n",
       "      <td>0.200000</td>\n",
       "      <td>0.000000</td>\n",
       "      <td>...</td>\n",
       "      <td>0.200000</td>\n",
       "      <td>0.200000</td>\n",
       "      <td>0.600000</td>\n",
       "      <td>0.0</td>\n",
       "      <td>1.00</td>\n",
       "      <td>0.0</td>\n",
       "      <td>0.0</td>\n",
       "      <td>0.0</td>\n",
       "      <td>0.0</td>\n",
       "      <td>4.366000</td>\n",
       "    </tr>\n",
       "    <tr>\n",
       "      <th>4</th>\n",
       "      <td>10106.000000</td>\n",
       "      <td>0.142857</td>\n",
       "      <td>0.142857</td>\n",
       "      <td>0.714286</td>\n",
       "      <td>0.000000</td>\n",
       "      <td>0.000000</td>\n",
       "      <td>1.000000</td>\n",
       "      <td>0.428571</td>\n",
       "      <td>0.571429</td>\n",
       "      <td>0.000000</td>\n",
       "      <td>...</td>\n",
       "      <td>0.000000</td>\n",
       "      <td>0.714286</td>\n",
       "      <td>0.285714</td>\n",
       "      <td>0.0</td>\n",
       "      <td>1.00</td>\n",
       "      <td>0.0</td>\n",
       "      <td>0.0</td>\n",
       "      <td>0.0</td>\n",
       "      <td>0.0</td>\n",
       "      <td>3.868571</td>\n",
       "    </tr>\n",
       "    <tr>\n",
       "      <th>5</th>\n",
       "      <td>10084.166667</td>\n",
       "      <td>0.166667</td>\n",
       "      <td>0.666667</td>\n",
       "      <td>0.166667</td>\n",
       "      <td>0.166667</td>\n",
       "      <td>0.166667</td>\n",
       "      <td>0.666667</td>\n",
       "      <td>0.333333</td>\n",
       "      <td>0.333333</td>\n",
       "      <td>0.333333</td>\n",
       "      <td>...</td>\n",
       "      <td>0.500000</td>\n",
       "      <td>0.500000</td>\n",
       "      <td>0.000000</td>\n",
       "      <td>0.0</td>\n",
       "      <td>1.00</td>\n",
       "      <td>0.0</td>\n",
       "      <td>0.0</td>\n",
       "      <td>0.0</td>\n",
       "      <td>0.0</td>\n",
       "      <td>3.771667</td>\n",
       "    </tr>\n",
       "    <tr>\n",
       "      <th>...</th>\n",
       "      <td>...</td>\n",
       "      <td>...</td>\n",
       "      <td>...</td>\n",
       "      <td>...</td>\n",
       "      <td>...</td>\n",
       "      <td>...</td>\n",
       "      <td>...</td>\n",
       "      <td>...</td>\n",
       "      <td>...</td>\n",
       "      <td>...</td>\n",
       "      <td>...</td>\n",
       "      <td>...</td>\n",
       "      <td>...</td>\n",
       "      <td>...</td>\n",
       "      <td>...</td>\n",
       "      <td>...</td>\n",
       "      <td>...</td>\n",
       "      <td>...</td>\n",
       "      <td>...</td>\n",
       "      <td>...</td>\n",
       "      <td>...</td>\n",
       "    </tr>\n",
       "    <tr>\n",
       "      <th>155</th>\n",
       "      <td>10176.000000</td>\n",
       "      <td>0.000000</td>\n",
       "      <td>1.000000</td>\n",
       "      <td>0.000000</td>\n",
       "      <td>0.000000</td>\n",
       "      <td>0.000000</td>\n",
       "      <td>1.000000</td>\n",
       "      <td>0.000000</td>\n",
       "      <td>1.000000</td>\n",
       "      <td>0.000000</td>\n",
       "      <td>...</td>\n",
       "      <td>1.000000</td>\n",
       "      <td>0.000000</td>\n",
       "      <td>0.000000</td>\n",
       "      <td>0.0</td>\n",
       "      <td>1.00</td>\n",
       "      <td>0.0</td>\n",
       "      <td>0.0</td>\n",
       "      <td>0.0</td>\n",
       "      <td>0.0</td>\n",
       "      <td>3.740000</td>\n",
       "    </tr>\n",
       "    <tr>\n",
       "      <th>185</th>\n",
       "      <td>10188.000000</td>\n",
       "      <td>0.000000</td>\n",
       "      <td>0.000000</td>\n",
       "      <td>1.000000</td>\n",
       "      <td>0.000000</td>\n",
       "      <td>0.000000</td>\n",
       "      <td>1.000000</td>\n",
       "      <td>0.000000</td>\n",
       "      <td>1.000000</td>\n",
       "      <td>0.000000</td>\n",
       "      <td>...</td>\n",
       "      <td>1.000000</td>\n",
       "      <td>0.000000</td>\n",
       "      <td>0.000000</td>\n",
       "      <td>0.0</td>\n",
       "      <td>1.00</td>\n",
       "      <td>0.0</td>\n",
       "      <td>0.0</td>\n",
       "      <td>0.0</td>\n",
       "      <td>0.0</td>\n",
       "      <td>3.290000</td>\n",
       "    </tr>\n",
       "    <tr>\n",
       "      <th>190</th>\n",
       "      <td>10076.000000</td>\n",
       "      <td>0.000000</td>\n",
       "      <td>1.000000</td>\n",
       "      <td>0.000000</td>\n",
       "      <td>0.000000</td>\n",
       "      <td>0.000000</td>\n",
       "      <td>1.000000</td>\n",
       "      <td>0.000000</td>\n",
       "      <td>1.000000</td>\n",
       "      <td>0.000000</td>\n",
       "      <td>...</td>\n",
       "      <td>1.000000</td>\n",
       "      <td>0.000000</td>\n",
       "      <td>0.000000</td>\n",
       "      <td>0.0</td>\n",
       "      <td>1.00</td>\n",
       "      <td>0.0</td>\n",
       "      <td>0.0</td>\n",
       "      <td>0.0</td>\n",
       "      <td>0.0</td>\n",
       "      <td>3.870000</td>\n",
       "    </tr>\n",
       "    <tr>\n",
       "      <th>228</th>\n",
       "      <td>10153.000000</td>\n",
       "      <td>0.000000</td>\n",
       "      <td>1.000000</td>\n",
       "      <td>0.000000</td>\n",
       "      <td>0.000000</td>\n",
       "      <td>0.000000</td>\n",
       "      <td>1.000000</td>\n",
       "      <td>1.000000</td>\n",
       "      <td>0.000000</td>\n",
       "      <td>0.000000</td>\n",
       "      <td>...</td>\n",
       "      <td>0.000000</td>\n",
       "      <td>0.000000</td>\n",
       "      <td>1.000000</td>\n",
       "      <td>0.0</td>\n",
       "      <td>0.00</td>\n",
       "      <td>0.0</td>\n",
       "      <td>0.0</td>\n",
       "      <td>0.0</td>\n",
       "      <td>0.0</td>\n",
       "      <td>4.710000</td>\n",
       "    </tr>\n",
       "    <tr>\n",
       "      <th>245</th>\n",
       "      <td>10207.500000</td>\n",
       "      <td>0.000000</td>\n",
       "      <td>1.000000</td>\n",
       "      <td>0.000000</td>\n",
       "      <td>0.000000</td>\n",
       "      <td>0.000000</td>\n",
       "      <td>1.000000</td>\n",
       "      <td>1.000000</td>\n",
       "      <td>0.000000</td>\n",
       "      <td>0.000000</td>\n",
       "      <td>...</td>\n",
       "      <td>1.000000</td>\n",
       "      <td>0.000000</td>\n",
       "      <td>0.000000</td>\n",
       "      <td>0.0</td>\n",
       "      <td>1.00</td>\n",
       "      <td>0.0</td>\n",
       "      <td>0.0</td>\n",
       "      <td>0.0</td>\n",
       "      <td>0.0</td>\n",
       "      <td>4.610000</td>\n",
       "    </tr>\n",
       "  </tbody>\n",
       "</table>\n",
       "<p>70 rows × 28 columns</p>\n",
       "</div>"
      ],
      "text/plain": [
       "                순번     과제 많음     과제 보통     과제 없음    조모임 많음    조모임 보통  \\\n",
       "리뷰 수                                                                   \n",
       "1     10103.450000  0.025000  0.150000  0.075000  0.000000  0.050000   \n",
       "2     10112.285714  0.000000  0.571429  0.428571  0.000000  0.142857   \n",
       "3     10083.400000  0.200000  0.400000  0.400000  0.000000  0.200000   \n",
       "4     10106.000000  0.142857  0.142857  0.714286  0.000000  0.000000   \n",
       "5     10084.166667  0.166667  0.666667  0.166667  0.166667  0.166667   \n",
       "...            ...       ...       ...       ...       ...       ...   \n",
       "155   10176.000000  0.000000  1.000000  0.000000  0.000000  0.000000   \n",
       "185   10188.000000  0.000000  0.000000  1.000000  0.000000  0.000000   \n",
       "190   10076.000000  0.000000  1.000000  0.000000  0.000000  0.000000   \n",
       "228   10153.000000  0.000000  1.000000  0.000000  0.000000  0.000000   \n",
       "245   10207.500000  0.000000  1.000000  0.000000  0.000000  0.000000   \n",
       "\n",
       "        조모임 없음     학점 느님  학점 비율채워줌    학점 깐깐함  ...    시험 두 번    시험 한 번  \\\n",
       "리뷰 수                                          ...                       \n",
       "1     0.200000  0.150000  0.100000  0.000000  ...  0.050000  0.100000   \n",
       "2     0.857143  0.285714  0.714286  0.000000  ...  0.571429  0.285714   \n",
       "3     0.800000  0.800000  0.200000  0.000000  ...  0.200000  0.200000   \n",
       "4     1.000000  0.428571  0.571429  0.000000  ...  0.000000  0.714286   \n",
       "5     0.666667  0.333333  0.333333  0.333333  ...  0.500000  0.500000   \n",
       "...        ...       ...       ...       ...  ...       ...       ...   \n",
       "155   1.000000  0.000000  1.000000  0.000000  ...  1.000000  0.000000   \n",
       "185   1.000000  0.000000  1.000000  0.000000  ...  1.000000  0.000000   \n",
       "190   1.000000  0.000000  1.000000  0.000000  ...  1.000000  0.000000   \n",
       "228   1.000000  1.000000  0.000000  0.000000  ...  0.000000  0.000000   \n",
       "245   1.000000  1.000000  0.000000  0.000000  ...  1.000000  0.000000   \n",
       "\n",
       "         시험 없음  pass/fail  grade  객관식  주관식  프로젝트 있음  암기 많음     value  \n",
       "리뷰 수                                                                  \n",
       "1     0.100000        0.0   0.25  0.0  0.0      0.0    0.0  4.400000  \n",
       "2     0.142857        0.0   1.00  0.0  0.0      0.0    0.0  4.428571  \n",
       "3     0.600000        0.0   1.00  0.0  0.0      0.0    0.0  4.366000  \n",
       "4     0.285714        0.0   1.00  0.0  0.0      0.0    0.0  3.868571  \n",
       "5     0.000000        0.0   1.00  0.0  0.0      0.0    0.0  3.771667  \n",
       "...        ...        ...    ...  ...  ...      ...    ...       ...  \n",
       "155   0.000000        0.0   1.00  0.0  0.0      0.0    0.0  3.740000  \n",
       "185   0.000000        0.0   1.00  0.0  0.0      0.0    0.0  3.290000  \n",
       "190   0.000000        0.0   1.00  0.0  0.0      0.0    0.0  3.870000  \n",
       "228   1.000000        0.0   0.00  0.0  0.0      0.0    0.0  4.710000  \n",
       "245   0.000000        0.0   1.00  0.0  0.0      0.0    0.0  4.610000  \n",
       "\n",
       "[70 rows x 28 columns]"
      ]
     },
     "execution_count": 74,
     "metadata": {},
     "output_type": "execute_result"
    }
   ],
   "source": [
    "data.groupby(data['리뷰 수']).mean()"
   ]
  },
  {
   "cell_type": "markdown",
   "metadata": {},
   "source": [
    "## 머신러닝 & 그래프"
   ]
  },
  {
   "cell_type": "code",
   "execution_count": 52,
   "metadata": {
    "_uuid": "134f7e1bd82e234982a9bc1e6e00785a31ae88fa"
   },
   "outputs": [
    {
     "data": {
      "text/plain": [
       "LinearRegression(copy_X=True, fit_intercept=True, n_jobs=None, normalize=False)"
      ]
     },
     "execution_count": 52,
     "metadata": {},
     "output_type": "execute_result"
    }
   ],
   "source": [
    "alg = LinearRegression()\n",
    "alg.fit(train, train_y)"
   ]
  },
  {
   "cell_type": "code",
   "execution_count": 53,
   "metadata": {
    "_uuid": "134f7e1bd82e234982a9bc1e6e00785a31ae88fa"
   },
   "outputs": [
    {
     "name": "stdout",
     "output_type": "stream",
     "text": [
      "[3.2529758 3.2529758 3.2529758 3.2529758 3.2529758 3.2529758 3.2529758\n",
      " 3.2529758 3.2529758 3.2529758 3.2529758 3.2529758 3.2529758 3.2529758\n",
      " 3.2529758 3.2529758 3.2529758 3.2529758 3.2529758 3.2529758 3.2529758\n",
      " 3.2529758 3.2529758 3.2529758 3.2529758 3.2529758 3.2529758 3.2529758\n",
      " 3.2529758 3.2529758]\n"
     ]
    }
   ],
   "source": [
    "y_pred = alg.predict(test)\n",
    "print(y_pred)\n",
    "#accuracy_score(Y_test, y_pred, normalize=True)"
   ]
  },
  {
   "cell_type": "code",
   "execution_count": 54,
   "metadata": {},
   "outputs": [],
   "source": [
    "importance = alg.coef_"
   ]
  },
  {
   "cell_type": "code",
   "execution_count": 64,
   "metadata": {},
   "outputs": [
    {
     "data": {
      "text/plain": [
       "<matplotlib.axes._subplots.AxesSubplot at 0x254a9837608>"
      ]
     },
     "execution_count": 64,
     "metadata": {},
     "output_type": "execute_result"
    },
    {
     "data": {
      "image/png": "[encoded data removed]",
      "text/plain": [
       "<Figure size 432x288 with 1 Axes>"
      ]
     },
     "metadata": {},
     "output_type": "display_data"
    }
   ],
   "source": [
    "feature_imp = pd.DataFrame(sorted(zip(train.columns, importance), key=lambda k: k[1], reverse=True))\n",
    "feature_imp.columns = ['Feature', 'Importance']\n",
    "import matplotlib.font_manager as fm\n",
    " \n",
    "plt.rc('font', family='Malgun Gothic')\n",
    "\n",
    "plt.xticks(rotation=90)\n",
    "sns.set(rc={\"axes.unicode_minus\":False})\n",
    "sns.barplot(data=feature_imp, x='Feature', y='Importance')"
   ]
  },
  {
   "cell_type": "code",
   "execution_count": null,
   "metadata": {},
   "outputs": [],
   "source": []
  }
 ],
 "metadata": {
  "kernelspec": {
   "display_name": "Python 3",
   "language": "python",
   "name": "python3"
  },
  "language_info": {
   "codemirror_mode": {
    "name": "ipython",
    "version": 3
   },
   "file_extension": ".py",
   "mimetype": "text/x-python",
   "name": "python",
   "nbconvert_exporter": "python",
   "pygments_lexer": "ipython3",
   "version": "3.7.6"
  }
 },
 "nbformat": 4,
 "nbformat_minor": 4
}
